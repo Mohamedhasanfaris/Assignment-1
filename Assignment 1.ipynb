{
 "cells": [
  {
   "cell_type": "code",
   "execution_count": 1,
   "id": "4ce17d97",
   "metadata": {},
   "outputs": [],
   "source": [
    "import cv2\n",
    "import numpy as np"
   ]
  },
  {
   "cell_type": "markdown",
   "id": "149876a5",
   "metadata": {},
   "source": [
    "## Importing Image"
   ]
  },
  {
   "cell_type": "code",
   "execution_count": 2,
   "id": "bcb865f6",
   "metadata": {},
   "outputs": [],
   "source": [
    "img = cv2.imread(\"Tree.jpg\")\n"
   ]
  },
  {
   "cell_type": "code",
   "execution_count": 3,
   "id": "60f3f277",
   "metadata": {},
   "outputs": [
    {
     "data": {
      "text/plain": [
       "-1"
      ]
     },
     "execution_count": 3,
     "metadata": {},
     "output_type": "execute_result"
    }
   ],
   "source": [
    "cv2.imshow(\"maram\",img)\n",
    "cv2.waitKey(0)\n"
   ]
  },
  {
   "cell_type": "markdown",
   "id": "a2d59913",
   "metadata": {},
   "source": [
    "## Greyscale"
   ]
  },
  {
   "cell_type": "code",
   "execution_count": 4,
   "id": "ca19c48c",
   "metadata": {},
   "outputs": [],
   "source": [
    "img_grey = cv2.imread(\"Tree.jpg\",0)"
   ]
  },
  {
   "cell_type": "code",
   "execution_count": 5,
   "id": "5bb4de55",
   "metadata": {},
   "outputs": [
    {
     "data": {
      "text/plain": [
       "-1"
      ]
     },
     "execution_count": 5,
     "metadata": {},
     "output_type": "execute_result"
    }
   ],
   "source": [
    "cv2.imshow(\"grey maram\",img_grey)\n",
    "cv2.waitKey(0)"
   ]
  },
  {
   "cell_type": "code",
   "execution_count": 6,
   "id": "8bd87742",
   "metadata": {},
   "outputs": [
    {
     "data": {
      "text/plain": [
       "True"
      ]
     },
     "execution_count": 6,
     "metadata": {},
     "output_type": "execute_result"
    }
   ],
   "source": [
    "cv2.imwrite(\"C:/Users/aedpu/HASAN_CSE_AI/Assignment 1/grey_tree.jpg\",img_grey)"
   ]
  },
  {
   "cell_type": "markdown",
   "id": "ab3cca8c",
   "metadata": {},
   "source": [
    "## Shape of An Image\n"
   ]
  },
  {
   "cell_type": "code",
   "execution_count": 7,
   "id": "ba58c815",
   "metadata": {},
   "outputs": [
    {
     "name": "stdout",
     "output_type": "stream",
     "text": [
      "(480, 771, 3)\n"
     ]
    }
   ],
   "source": [
    "sha=img.shape\n",
    "print(sha)"
   ]
  },
  {
   "cell_type": "markdown",
   "id": "a914fbdf",
   "metadata": {},
   "source": [
    "## Image size"
   ]
  },
  {
   "cell_type": "code",
   "execution_count": 8,
   "id": "3e14a9aa",
   "metadata": {},
   "outputs": [
    {
     "name": "stdout",
     "output_type": "stream",
     "text": [
      "1110240\n"
     ]
    }
   ],
   "source": [
    "siz=img.size\n",
    "print(siz)"
   ]
  },
  {
   "cell_type": "markdown",
   "id": "5b47ef2a",
   "metadata": {},
   "source": [
    "## Image Resize"
   ]
  },
  {
   "cell_type": "code",
   "execution_count": 9,
   "id": "b3ee80e7",
   "metadata": {},
   "outputs": [],
   "source": [
    "img_rez = cv2.resize(img,(350,300))"
   ]
  },
  {
   "cell_type": "code",
   "execution_count": 10,
   "id": "f7f62db2",
   "metadata": {},
   "outputs": [
    {
     "data": {
      "text/plain": [
       "-1"
      ]
     },
     "execution_count": 10,
     "metadata": {},
     "output_type": "execute_result"
    }
   ],
   "source": [
    "cv2.imshow(\"Resized maram\",img_rez)\n",
    "cv2.waitKey(0)"
   ]
  },
  {
   "cell_type": "code",
   "execution_count": 11,
   "id": "1bba01b0",
   "metadata": {},
   "outputs": [
    {
     "data": {
      "text/plain": [
       "True"
      ]
     },
     "execution_count": 11,
     "metadata": {},
     "output_type": "execute_result"
    }
   ],
   "source": [
    "cv2.imwrite(\"C:/Users/aedpu/HASAN_CSE_AI/Assignment 1/resized_tree.jpg\",img_rez)"
   ]
  },
  {
   "cell_type": "markdown",
   "id": "4d7a7177",
   "metadata": {},
   "source": [
    "## Image Color Splitting"
   ]
  },
  {
   "cell_type": "code",
   "execution_count": 12,
   "id": "dee9c230",
   "metadata": {},
   "outputs": [],
   "source": [
    "b,g,r = cv2.split(img)\n"
   ]
  },
  {
   "cell_type": "code",
   "execution_count": 13,
   "id": "5f99d016",
   "metadata": {},
   "outputs": [
    {
     "data": {
      "text/plain": [
       "-1"
      ]
     },
     "execution_count": 13,
     "metadata": {},
     "output_type": "execute_result"
    }
   ],
   "source": [
    "cv2.imshow(\"b\",b)\n",
    "cv2.waitKey(0)\n",
    "cv2.imshow(\"g\",g)\n",
    "cv2.waitKey(0)\n",
    "cv2.imshow(\"r\",r)\n",
    "cv2.waitKey(0)"
   ]
  },
  {
   "cell_type": "code",
   "execution_count": 14,
   "id": "d4674344",
   "metadata": {},
   "outputs": [
    {
     "data": {
      "text/plain": [
       "True"
      ]
     },
     "execution_count": 14,
     "metadata": {},
     "output_type": "execute_result"
    }
   ],
   "source": [
    "cv2.imwrite(\"C:/Users/aedpu/HASAN_CSE_AI/Assignment 1/splitting 1.jpg\",b)\n",
    "cv2.imwrite(\"C:/Users/aedpu/HASAN_CSE_AI/Assignment 1/splitting 2.jpg\",g)\n",
    "cv2.imwrite(\"C:/Users/aedpu/HASAN_CSE_AI/Assignment 1/splitting 3.jpg\",r)"
   ]
  },
  {
   "cell_type": "markdown",
   "id": "afcbd3b2",
   "metadata": {},
   "source": [
    "## Region Of Intrest (ROI)"
   ]
  },
  {
   "cell_type": "code",
   "execution_count": 15,
   "id": "d6bd23ca",
   "metadata": {},
   "outputs": [],
   "source": [
    "roi_img = img[1:400,1:300]"
   ]
  },
  {
   "cell_type": "code",
   "execution_count": 16,
   "id": "239648ef",
   "metadata": {},
   "outputs": [
    {
     "data": {
      "text/plain": [
       "-1"
      ]
     },
     "execution_count": 16,
     "metadata": {},
     "output_type": "execute_result"
    }
   ],
   "source": [
    "cv2.imshow(\"ROI\",roi_img)\n",
    "cv2.waitKey(0)"
   ]
  },
  {
   "cell_type": "code",
   "execution_count": 17,
   "id": "63a8e60e",
   "metadata": {},
   "outputs": [
    {
     "data": {
      "text/plain": [
       "True"
      ]
     },
     "execution_count": 17,
     "metadata": {},
     "output_type": "execute_result"
    }
   ],
   "source": [
    "cv2.imwrite(\"C:/Users/aedpu/HASAN_CSE_AI/Assignment 1/ROi.jpg\",roi_img)"
   ]
  },
  {
   "cell_type": "markdown",
   "id": "35f61d74",
   "metadata": {},
   "source": [
    "## Merging Image"
   ]
  },
  {
   "cell_type": "code",
   "execution_count": 18,
   "id": "e357ca03",
   "metadata": {},
   "outputs": [],
   "source": [
    "mer = cv2.merge((r,g,b))"
   ]
  },
  {
   "cell_type": "code",
   "execution_count": 19,
   "id": "63c45da5",
   "metadata": {},
   "outputs": [
    {
     "data": {
      "text/plain": [
       "-1"
      ]
     },
     "execution_count": 19,
     "metadata": {},
     "output_type": "execute_result"
    }
   ],
   "source": [
    "cv2.imshow(\"Merge Image\",mer)\n",
    "cv2.waitKey(0)"
   ]
  },
  {
   "cell_type": "code",
   "execution_count": 20,
   "id": "9be1bd98",
   "metadata": {},
   "outputs": [
    {
     "data": {
      "text/plain": [
       "True"
      ]
     },
     "execution_count": 20,
     "metadata": {},
     "output_type": "execute_result"
    }
   ],
   "source": [
    "cv2.imwrite(\"C:/Users/aedpu/HASAN_CSE_AI/Assignment 1/Merge Image.jpg\",mer)"
   ]
  },
  {
   "cell_type": "markdown",
   "id": "e15805b8",
   "metadata": {},
   "source": [
    "## Arithmetic Operations"
   ]
  },
  {
   "cell_type": "code",
   "execution_count": 21,
   "id": "4fbe1e17",
   "metadata": {},
   "outputs": [],
   "source": [
    "img1=cv2.imread(\"one.jpg\")\n",
    "img2=cv2.imread(\"two.jpg\")"
   ]
  },
  {
   "cell_type": "code",
   "execution_count": 22,
   "id": "0ecd12c4",
   "metadata": {},
   "outputs": [
    {
     "data": {
      "text/plain": [
       "-1"
      ]
     },
     "execution_count": 22,
     "metadata": {},
     "output_type": "execute_result"
    }
   ],
   "source": [
    "cv2.imshow(\"one\",img1)\n",
    "cv2.waitKey(0)\n",
    "cv2.imshow(\"two\",img2)\n",
    "cv2.waitKey(0)"
   ]
  },
  {
   "cell_type": "code",
   "execution_count": 23,
   "id": "2369f7af",
   "metadata": {},
   "outputs": [
    {
     "data": {
      "text/plain": [
       "-1"
      ]
     },
     "execution_count": 23,
     "metadata": {},
     "output_type": "execute_result"
    }
   ],
   "source": [
    "# Addition\n",
    "imgAdd = cv2.addWeighted(img1,0.5,img2,0.5,1)\n",
    "cv2.imshow(\"one+two\",imgAdd)\n",
    "cv2.waitKey(0)"
   ]
  },
  {
   "cell_type": "code",
   "execution_count": 24,
   "id": "edeb7aa0",
   "metadata": {},
   "outputs": [
    {
     "data": {
      "text/plain": [
       "True"
      ]
     },
     "execution_count": 24,
     "metadata": {},
     "output_type": "execute_result"
    }
   ],
   "source": [
    "cv2.imwrite(\"C:/Users/aedpu/HASAN_CSE_AI/Assignment 1/Addition.jpg\",imgAdd)"
   ]
  },
  {
   "cell_type": "code",
   "execution_count": 25,
   "id": "55117852",
   "metadata": {},
   "outputs": [
    {
     "data": {
      "text/plain": [
       "-1"
      ]
     },
     "execution_count": 25,
     "metadata": {},
     "output_type": "execute_result"
    }
   ],
   "source": [
    "# Subtraction\n",
    "imgSub = cv2.subtract(img1,img2)\n",
    "cv2.imshow(\"one-two\",imgSub)\n",
    "cv2.waitKey(0)"
   ]
  },
  {
   "cell_type": "code",
   "execution_count": 26,
   "id": "f0f1d713",
   "metadata": {},
   "outputs": [
    {
     "data": {
      "text/plain": [
       "True"
      ]
     },
     "execution_count": 26,
     "metadata": {},
     "output_type": "execute_result"
    }
   ],
   "source": [
    "cv2.imwrite(\"C:/Users/aedpu/HASAN_CSE_AI/Assignment 1/Subtracion.jpg\",imgSub)"
   ]
  },
  {
   "cell_type": "markdown",
   "id": "849f07c1",
   "metadata": {},
   "source": [
    "## Image Smoothening"
   ]
  },
  {
   "cell_type": "code",
   "execution_count": 27,
   "id": "0c1f89e0",
   "metadata": {},
   "outputs": [],
   "source": [
    "# Average Blur\n",
    "avg = cv2.blur(img,(12,12))"
   ]
  },
  {
   "cell_type": "code",
   "execution_count": 28,
   "id": "a0477af9",
   "metadata": {},
   "outputs": [
    {
     "data": {
      "text/plain": [
       "-1"
      ]
     },
     "execution_count": 28,
     "metadata": {},
     "output_type": "execute_result"
    }
   ],
   "source": [
    "cv2.imshow(\"Original\",img)\n",
    "cv2.waitKey(0)\n",
    "cv2.imshow(\"avg\",avg)\n",
    "cv2.waitKey(0)"
   ]
  },
  {
   "cell_type": "code",
   "execution_count": 29,
   "id": "448594ba",
   "metadata": {},
   "outputs": [
    {
     "data": {
      "text/plain": [
       "True"
      ]
     },
     "execution_count": 29,
     "metadata": {},
     "output_type": "execute_result"
    }
   ],
   "source": [
    "cv2.imwrite(\"C:/Users/aedpu/HASAN_CSE_AI/Assignment 1/Blur Average Img.jpg\",avg)"
   ]
  },
  {
   "cell_type": "code",
   "execution_count": 30,
   "id": "8c7881bf",
   "metadata": {},
   "outputs": [],
   "source": [
    "# gaussian Blur\n",
    "gauss = cv2.GaussianBlur(img,(5,5),7)"
   ]
  },
  {
   "cell_type": "code",
   "execution_count": 31,
   "id": "6a0df3d1",
   "metadata": {},
   "outputs": [
    {
     "data": {
      "text/plain": [
       "-1"
      ]
     },
     "execution_count": 31,
     "metadata": {},
     "output_type": "execute_result"
    }
   ],
   "source": [
    "cv2.imshow(\"Original\",img)\n",
    "cv2.waitKey(0)\n",
    "cv2.imshow(\"avg\",gauss)\n",
    "cv2.waitKey(0)"
   ]
  },
  {
   "cell_type": "code",
   "execution_count": 32,
   "id": "abb98dd5",
   "metadata": {},
   "outputs": [
    {
     "data": {
      "text/plain": [
       "True"
      ]
     },
     "execution_count": 32,
     "metadata": {},
     "output_type": "execute_result"
    }
   ],
   "source": [
    "cv2.imwrite(\"C:/Users/aedpu/HASAN_CSE_AI/Assignment 1/Gaussian Blur Img.jpg\",gauss)"
   ]
  },
  {
   "cell_type": "code",
   "execution_count": 33,
   "id": "aac1f7d1",
   "metadata": {},
   "outputs": [],
   "source": [
    "# Median filter\n",
    "median = cv2.medianBlur(img,5)"
   ]
  },
  {
   "cell_type": "code",
   "execution_count": 34,
   "id": "89cf3a7d",
   "metadata": {},
   "outputs": [
    {
     "data": {
      "text/plain": [
       "-1"
      ]
     },
     "execution_count": 34,
     "metadata": {},
     "output_type": "execute_result"
    }
   ],
   "source": [
    "cv2.imshow(\"Original\",img)\n",
    "cv2.waitKey(0)\n",
    "cv2.imshow(\"avg\",median)\n",
    "cv2.waitKey(0)"
   ]
  },
  {
   "cell_type": "code",
   "execution_count": 35,
   "id": "702ba0f4",
   "metadata": {},
   "outputs": [
    {
     "data": {
      "text/plain": [
       "True"
      ]
     },
     "execution_count": 35,
     "metadata": {},
     "output_type": "execute_result"
    }
   ],
   "source": [
    "cv2.imwrite(\"C:/Users/aedpu/HASAN_CSE_AI/Assignment 1/Median Blur Img.jpg\",median)"
   ]
  },
  {
   "cell_type": "markdown",
   "id": "aad29215",
   "metadata": {},
   "source": [
    "## Rotation"
   ]
  },
  {
   "cell_type": "code",
   "execution_count": 36,
   "id": "f3be93e7",
   "metadata": {},
   "outputs": [
    {
     "name": "stdout",
     "output_type": "stream",
     "text": [
      "(480, 771, 3)\n",
      "480\n",
      "771\n"
     ]
    }
   ],
   "source": [
    "shap=img.shape\n",
    "print(shap)\n",
    "height,width=img.shape[:2]\n",
    "print(height)\n",
    "print(width)"
   ]
  },
  {
   "cell_type": "code",
   "execution_count": 37,
   "id": "fdcff8c0",
   "metadata": {},
   "outputs": [
    {
     "name": "stdout",
     "output_type": "stream",
     "text": [
      "(240.0, 385.5)\n"
     ]
    }
   ],
   "source": [
    "center = (height/2,width/2)\n",
    "print(center)"
   ]
  },
  {
   "cell_type": "code",
   "execution_count": 38,
   "id": "100b8d1b",
   "metadata": {},
   "outputs": [
    {
     "name": "stdout",
     "output_type": "stream",
     "text": [
      "[[-2.50000000e-01  4.33012702e-01  1.33073603e+02]\n",
      " [-4.33012702e-01 -2.50000000e-01  5.85798048e+02]]\n"
     ]
    }
   ],
   "source": [
    "rotation_matrix = cv2.getRotationMatrix2D(center=center,angle=120,scale=0.5)\n",
    "print(rotation_matrix)"
   ]
  },
  {
   "cell_type": "code",
   "execution_count": 39,
   "id": "76ca7dbf",
   "metadata": {},
   "outputs": [
    {
     "data": {
      "text/plain": [
       "-1"
      ]
     },
     "execution_count": 39,
     "metadata": {},
     "output_type": "execute_result"
    }
   ],
   "source": [
    "rotated_img = cv2.warpAffine(src=img, M=rotation_matrix, dsize=(width,height))\n",
    "\n",
    "cv2.imshow('Original',img)\n",
    "cv2.waitKey(0)\n",
    "cv2.imshow('Rotated',rotated_img)\n",
    "cv2.waitKey(0)"
   ]
  },
  {
   "cell_type": "code",
   "execution_count": 40,
   "id": "3da60239",
   "metadata": {},
   "outputs": [
    {
     "data": {
      "text/plain": [
       "True"
      ]
     },
     "execution_count": 40,
     "metadata": {},
     "output_type": "execute_result"
    }
   ],
   "source": [
    "cv2.imwrite(\"C:/Users/aedpu/HASAN_CSE_AI/Assignment 1/Rotated Img.jpg\",rotated_img)"
   ]
  },
  {
   "cell_type": "markdown",
   "id": "5e7a6d3d",
   "metadata": {},
   "source": [
    "# Image Thresholding"
   ]
  },
  {
   "cell_type": "code",
   "execution_count": 41,
   "id": "10f3cae5",
   "metadata": {},
   "outputs": [],
   "source": [
    "imgL = cv2.imread(\"Low_light_img.jpg\")"
   ]
  },
  {
   "cell_type": "code",
   "execution_count": 42,
   "id": "6e6f5ed8",
   "metadata": {},
   "outputs": [
    {
     "data": {
      "text/plain": [
       "-1"
      ]
     },
     "execution_count": 42,
     "metadata": {},
     "output_type": "execute_result"
    }
   ],
   "source": [
    "cv2.imshow(\"low\",imgL)\n",
    "cv2.waitKey(0)"
   ]
  },
  {
   "cell_type": "code",
   "execution_count": 43,
   "id": "29c75426",
   "metadata": {},
   "outputs": [],
   "source": [
    "igray =cv2.cvtColor(imgL,cv2.COLOR_BGR2GRAY)"
   ]
  },
  {
   "cell_type": "code",
   "execution_count": 44,
   "id": "63793610",
   "metadata": {},
   "outputs": [
    {
     "data": {
      "text/plain": [
       "-1"
      ]
     },
     "execution_count": 44,
     "metadata": {},
     "output_type": "execute_result"
    }
   ],
   "source": [
    "cv2.imshow(\"low\",igray)\n",
    "cv2.waitKey(0)"
   ]
  },
  {
   "cell_type": "code",
   "execution_count": 45,
   "id": "a612e765",
   "metadata": {},
   "outputs": [],
   "source": [
    "#simple threshold\n",
    "ret,th1 = cv2.threshold(igray,15,150,cv2.THRESH_BINARY)\n",
    "#Adaptive Mean Threshold\n",
    "adpt2 = cv2.adaptiveThreshold(igray,255,cv2.ADAPTIVE_THRESH_MEAN_C,cv2.THRESH_BINARY,17,4)\n",
    "#Adaptive Gaussian Threshold\n",
    "adpt3 = cv2.adaptiveThreshold(igray,255,cv2.ADAPTIVE_THRESH_GAUSSIAN_C,cv2.THRESH_BINARY,17,4) "
   ]
  },
  {
   "cell_type": "code",
   "execution_count": 46,
   "id": "f70413ad",
   "metadata": {},
   "outputs": [
    {
     "data": {
      "text/plain": [
       "-1"
      ]
     },
     "execution_count": 46,
     "metadata": {},
     "output_type": "execute_result"
    }
   ],
   "source": [
    "cv2.imshow('Simple Thres',th1)\n",
    "cv2.waitKey(0)\n",
    "cv2.imshow('Adaptive Mean',adpt2)\n",
    "cv2.waitKey(0)\n",
    "cv2.imshow('Adaptive Gaussian',adpt3)\n",
    "cv2.waitKey(0)"
   ]
  },
  {
   "cell_type": "code",
   "execution_count": 47,
   "id": "2c794632",
   "metadata": {},
   "outputs": [
    {
     "data": {
      "text/plain": [
       "True"
      ]
     },
     "execution_count": 47,
     "metadata": {},
     "output_type": "execute_result"
    }
   ],
   "source": [
    "cv2.imwrite(\"C:/Users/aedpu/HASAN_CSE_AI/Assignment 1/simple Thresh img.jpg\",th1)\n",
    "cv2.imwrite(\"C:/Users/aedpu/HASAN_CSE_AI/Assignment 1/adaptive mean Thres Img.jpg\",adpt2)\n",
    "cv2.imwrite(\"C:/Users/aedpu/HASAN_CSE_AI/Assignment 1/adaptive gaussian Img.jpg.jpg\",adpt3)"
   ]
  },
  {
   "cell_type": "code",
   "execution_count": null,
   "id": "fb62b253",
   "metadata": {},
   "outputs": [],
   "source": []
  }
 ],
 "metadata": {
  "kernelspec": {
   "display_name": "Python 3 (ipykernel)",
   "language": "python",
   "name": "python3"
  },
  "language_info": {
   "codemirror_mode": {
    "name": "ipython",
    "version": 3
   },
   "file_extension": ".py",
   "mimetype": "text/x-python",
   "name": "python",
   "nbconvert_exporter": "python",
   "pygments_lexer": "ipython3",
   "version": "3.9.16"
  }
 },
 "nbformat": 4,
 "nbformat_minor": 5
}
